{
 "cells": [
  {
   "cell_type": "code",
   "execution_count": 33,
   "metadata": {},
   "outputs": [],
   "source": [
    "import numpy as np\n",
    "import pandas as pd\n",
    "import matplotlib.pyplot as plt\n",
    "import statistics\n",
    "\n",
    "from sklearn.linear_model import LinearRegression"
   ]
  },
  {
   "cell_type": "markdown",
   "metadata": {},
   "source": [
    "Изобретаем датасет.\n",
    "Это будет данны о стоимости авто, расход топлива, объем двигателя и возраст.\n",
    "Будем считать, что стоимость авто пропорционально произведению объема двигателя на расход и обратно пропорциональна её возрасту и умножим на 100 чтобы получить красивое число."
   ]
  },
  {
   "cell_type": "code",
   "execution_count": 13,
   "metadata": {},
   "outputs": [
    {
     "data": {
      "text/html": [
       "<div>\n",
       "<style scoped>\n",
       "    .dataframe tbody tr th:only-of-type {\n",
       "        vertical-align: middle;\n",
       "    }\n",
       "\n",
       "    .dataframe tbody tr th {\n",
       "        vertical-align: top;\n",
       "    }\n",
       "\n",
       "    .dataframe thead th {\n",
       "        text-align: right;\n",
       "    }\n",
       "</style>\n",
       "<table border=\"1\" class=\"dataframe\">\n",
       "  <thead>\n",
       "    <tr style=\"text-align: right;\">\n",
       "      <th></th>\n",
       "      <th>car_years_old</th>\n",
       "      <th>car_engine_capacity</th>\n",
       "      <th>car_fuel_flow</th>\n",
       "      <th>car_price</th>\n",
       "    </tr>\n",
       "  </thead>\n",
       "  <tbody>\n",
       "    <tr>\n",
       "      <th>0</th>\n",
       "      <td>9</td>\n",
       "      <td>453</td>\n",
       "      <td>26</td>\n",
       "      <td>130866.666667</td>\n",
       "    </tr>\n",
       "    <tr>\n",
       "      <th>1</th>\n",
       "      <td>7</td>\n",
       "      <td>308</td>\n",
       "      <td>30</td>\n",
       "      <td>132000.000000</td>\n",
       "    </tr>\n",
       "    <tr>\n",
       "      <th>2</th>\n",
       "      <td>14</td>\n",
       "      <td>202</td>\n",
       "      <td>10</td>\n",
       "      <td>14428.571429</td>\n",
       "    </tr>\n",
       "    <tr>\n",
       "      <th>3</th>\n",
       "      <td>4</td>\n",
       "      <td>170</td>\n",
       "      <td>9</td>\n",
       "      <td>38250.000000</td>\n",
       "    </tr>\n",
       "    <tr>\n",
       "      <th>4</th>\n",
       "      <td>17</td>\n",
       "      <td>488</td>\n",
       "      <td>10</td>\n",
       "      <td>28705.882353</td>\n",
       "    </tr>\n",
       "  </tbody>\n",
       "</table>\n",
       "</div>"
      ],
      "text/plain": [
       "   car_years_old  car_engine_capacity  car_fuel_flow      car_price\n",
       "0              9                  453             26  130866.666667\n",
       "1              7                  308             30  132000.000000\n",
       "2             14                  202             10   14428.571429\n",
       "3              4                  170              9   38250.000000\n",
       "4             17                  488             10   28705.882353"
      ]
     },
     "execution_count": 13,
     "metadata": {},
     "output_type": "execute_result"
    }
   ],
   "source": [
    "n_samples = 1000\n",
    "\n",
    "car_years_old = np.random.choice(20, n_samples) + 1\n",
    "car_engine_capacity = np.random.choice(400, n_samples) + 90\n",
    "car_fuel_flow = np.random.choice(30, n_samples) + 4\n",
    "\n",
    "car_price = ((car_engine_capacity * car_fuel_flow) / car_years_old) * 100\n",
    "\n",
    "data = pd.DataFrame({'car_years_old': car_years_old, 'car_engine_capacity': car_engine_capacity, \n",
    "                     'car_fuel_flow': car_fuel_flow, 'car_price': car_price})\n",
    "data.head(5)"
   ]
  },
  {
   "cell_type": "markdown",
   "metadata": {},
   "source": [
    "Посмотрим вес параметров "
   ]
  },
  {
   "cell_type": "code",
   "execution_count": 14,
   "metadata": {},
   "outputs": [
    {
     "name": "stdout",
     "output_type": "stream",
     "text": [
      "Weights: [-14869.80136115    301.26942701   5612.98694584]\n",
      "Bias: 68269.90787693308\n",
      "Error: 72939.52225949062\n"
     ]
    }
   ],
   "source": [
    "from sklearn.metrics import mean_absolute_error\n",
    "\n",
    "X = data[['car_years_old', 'car_engine_capacity', 'car_fuel_flow']]\n",
    "y = data['car_price']\n",
    "reg = LinearRegression().fit(X, y)\n",
    "print('Weights: {}'.format(reg.coef_))\n",
    "print('Bias: {}'.format(reg.intercept_))\n",
    "\n",
    "pred_values = reg.predict(data[['car_years_old', 'car_engine_capacity', 'car_fuel_flow']])\n",
    "print('Error: {}'.format(mean_absolute_error(pred_values, y)))"
   ]
  },
  {
   "cell_type": "markdown",
   "metadata": {},
   "source": [
    "car_years_old - сильно влияет на стоимость в отрицательную сторону, чем старше тем стоимость ниже видимо\n",
    "\n",
    "car_engine_capacity - влияет но не сильно\n",
    "\n",
    "car_fuel_flow - сильно влияет\n",
    "\n"
   ]
  },
  {
   "cell_type": "code",
   "execution_count": 15,
   "metadata": {},
   "outputs": [
    {
     "data": {
      "text/plain": [
       "0    130866.666667\n",
       "1    132000.000000\n",
       "2     14428.571429\n",
       "3     38250.000000\n",
       "4     28705.882353\n",
       "Name: car_price, dtype: float64"
      ]
     },
     "execution_count": 15,
     "metadata": {},
     "output_type": "execute_result"
    }
   ],
   "source": [
    "# посмотрим какие стоимости авто получились\n",
    "y.head()"
   ]
  },
  {
   "cell_type": "code",
   "execution_count": 8,
   "metadata": {},
   "outputs": [
    {
     "data": {
      "text/plain": [
       "0    -7370.286008\n",
       "1     2536.065006\n",
       "2    -8057.581584\n",
       "3    -8245.096621\n",
       "4    10409.555931\n",
       "Name: car_price, dtype: float64"
      ]
     },
     "execution_count": 8,
     "metadata": {},
     "output_type": "execute_result"
    }
   ],
   "source": [
    "res = y - pred_values\n",
    "res.head()"
   ]
  },
  {
   "cell_type": "markdown",
   "metadata": {},
   "source": [
    "Очень большое значение ошибки и отклонения... Нужно убрать выбросы наверно"
   ]
  },
  {
   "cell_type": "code",
   "execution_count": 42,
   "metadata": {},
   "outputs": [
    {
     "data": {
      "text/plain": [
       "<matplotlib.collections.PathCollection at 0x1554bd200b8>"
      ]
     },
     "execution_count": 42,
     "metadata": {},
     "output_type": "execute_result"
    },
    {
     "data": {
      "image/png": "[encoded data removed]",
      "text/plain": [
       "<Figure size 432x288 with 1 Axes>"
      ]
     },
     "metadata": {},
     "output_type": "display_data"
    }
   ],
   "source": [
    "# посмотрим на графике зависимость Стоимости от Возраста\n",
    "x = data['car_years_old']\n",
    "y = data['car_price']\n",
    "\n",
    "plt.xlabel('Возраст')\n",
    "plt.ylabel('Стоимость')\n",
    "plt.title('Точечный график зависимости двух выборок Стоимость и Возраст')\n",
    "plt.grid(True)\n",
    "plt.scatter(x, y, marker='.')"
   ]
  },
  {
   "cell_type": "code",
   "execution_count": 31,
   "metadata": {},
   "outputs": [
    {
     "name": "stdout",
     "output_type": "stream",
     "text": [
      "0\n",
      "0\n",
      "0\n",
      "0\n"
     ]
    }
   ],
   "source": [
    "# проверяем все данные на пустые значения\n",
    "print(data['car_price'].isnull().sum())\n",
    "print(data['car_years_old'].isnull().sum())\n",
    "print(data['car_engine_capacity'].isnull().sum())\n",
    "print(data['car_fuel_flow'].isnull().sum())"
   ]
  },
  {
   "cell_type": "code",
   "execution_count": 37,
   "metadata": {},
   "outputs": [
    {
     "name": "stdout",
     "output_type": "stream",
     "text": [
      "Медиана -  48960.0\n",
      "Мин -  3211.7647058823527\n",
      "Макс -  1587300.0\n"
     ]
    }
   ],
   "source": [
    "# смотрим медиану, минимальтное и максимальное згначение\n",
    "print('Медиана - ',statistics.median(data['car_price']))\n",
    "print('Мин - ',min(data['car_price']))\n",
    "print('Макс - ',max(data['car_price']))"
   ]
  },
  {
   "cell_type": "markdown",
   "metadata": {},
   "source": [
    "Максимально очень далеко от медианы, значит надо выкинуть некоторые максимальные значения. Видимо какие-то аномалии в данные, которые искажают картину."
   ]
  },
  {
   "cell_type": "code",
   "execution_count": 47,
   "metadata": {},
   "outputs": [
    {
     "data": {
      "text/html": [
       "<div>\n",
       "<style scoped>\n",
       "    .dataframe tbody tr th:only-of-type {\n",
       "        vertical-align: middle;\n",
       "    }\n",
       "\n",
       "    .dataframe tbody tr th {\n",
       "        vertical-align: top;\n",
       "    }\n",
       "\n",
       "    .dataframe thead th {\n",
       "        text-align: right;\n",
       "    }\n",
       "</style>\n",
       "<table border=\"1\" class=\"dataframe\">\n",
       "  <thead>\n",
       "    <tr style=\"text-align: right;\">\n",
       "      <th></th>\n",
       "      <th>car_years_old</th>\n",
       "      <th>car_engine_capacity</th>\n",
       "      <th>car_fuel_flow</th>\n",
       "      <th>car_price</th>\n",
       "      <th>car_new_ft</th>\n",
       "    </tr>\n",
       "  </thead>\n",
       "  <tbody>\n",
       "    <tr>\n",
       "      <th>186</th>\n",
       "      <td>1</td>\n",
       "      <td>432</td>\n",
       "      <td>29</td>\n",
       "      <td>1252800.0</td>\n",
       "      <td>12528</td>\n",
       "    </tr>\n",
       "    <tr>\n",
       "      <th>214</th>\n",
       "      <td>1</td>\n",
       "      <td>451</td>\n",
       "      <td>32</td>\n",
       "      <td>1443200.0</td>\n",
       "      <td>14432</td>\n",
       "    </tr>\n",
       "    <tr>\n",
       "      <th>689</th>\n",
       "      <td>1</td>\n",
       "      <td>474</td>\n",
       "      <td>22</td>\n",
       "      <td>1042800.0</td>\n",
       "      <td>10428</td>\n",
       "    </tr>\n",
       "    <tr>\n",
       "      <th>899</th>\n",
       "      <td>1</td>\n",
       "      <td>481</td>\n",
       "      <td>33</td>\n",
       "      <td>1587300.0</td>\n",
       "      <td>15873</td>\n",
       "    </tr>\n",
       "    <tr>\n",
       "      <th>907</th>\n",
       "      <td>1</td>\n",
       "      <td>458</td>\n",
       "      <td>28</td>\n",
       "      <td>1282400.0</td>\n",
       "      <td>12824</td>\n",
       "    </tr>\n",
       "  </tbody>\n",
       "</table>\n",
       "</div>"
      ],
      "text/plain": [
       "     car_years_old  car_engine_capacity  car_fuel_flow  car_price  car_new_ft\n",
       "186              1                  432             29  1252800.0       12528\n",
       "214              1                  451             32  1443200.0       14432\n",
       "689              1                  474             22  1042800.0       10428\n",
       "899              1                  481             33  1587300.0       15873\n",
       "907              1                  458             28  1282400.0       12824"
      ]
     },
     "execution_count": 47,
     "metadata": {},
     "output_type": "execute_result"
    }
   ],
   "source": [
    "# Посмотрим сколько авто стоимость больше 1 млн \n",
    "data.loc[data['car_price'] > 1000000]"
   ]
  },
  {
   "cell_type": "markdown",
   "metadata": {},
   "source": [
    "Совсем мало. Нужно их убирать из данных."
   ]
  },
  {
   "cell_type": "code",
   "execution_count": 48,
   "metadata": {},
   "outputs": [
    {
     "data": {
      "text/html": [
       "<div>\n",
       "<style scoped>\n",
       "    .dataframe tbody tr th:only-of-type {\n",
       "        vertical-align: middle;\n",
       "    }\n",
       "\n",
       "    .dataframe tbody tr th {\n",
       "        vertical-align: top;\n",
       "    }\n",
       "\n",
       "    .dataframe thead th {\n",
       "        text-align: right;\n",
       "    }\n",
       "</style>\n",
       "<table border=\"1\" class=\"dataframe\">\n",
       "  <thead>\n",
       "    <tr style=\"text-align: right;\">\n",
       "      <th></th>\n",
       "      <th>car_years_old</th>\n",
       "      <th>car_engine_capacity</th>\n",
       "      <th>car_fuel_flow</th>\n",
       "      <th>car_price</th>\n",
       "      <th>car_new_ft</th>\n",
       "    </tr>\n",
       "  </thead>\n",
       "  <tbody>\n",
       "    <tr>\n",
       "      <th>0</th>\n",
       "      <td>9</td>\n",
       "      <td>453</td>\n",
       "      <td>26</td>\n",
       "      <td>130866.666667</td>\n",
       "      <td>11778</td>\n",
       "    </tr>\n",
       "    <tr>\n",
       "      <th>1</th>\n",
       "      <td>7</td>\n",
       "      <td>308</td>\n",
       "      <td>30</td>\n",
       "      <td>132000.000000</td>\n",
       "      <td>9240</td>\n",
       "    </tr>\n",
       "    <tr>\n",
       "      <th>2</th>\n",
       "      <td>14</td>\n",
       "      <td>202</td>\n",
       "      <td>10</td>\n",
       "      <td>14428.571429</td>\n",
       "      <td>2020</td>\n",
       "    </tr>\n",
       "    <tr>\n",
       "      <th>3</th>\n",
       "      <td>4</td>\n",
       "      <td>170</td>\n",
       "      <td>9</td>\n",
       "      <td>38250.000000</td>\n",
       "      <td>1530</td>\n",
       "    </tr>\n",
       "    <tr>\n",
       "      <th>4</th>\n",
       "      <td>17</td>\n",
       "      <td>488</td>\n",
       "      <td>10</td>\n",
       "      <td>28705.882353</td>\n",
       "      <td>4880</td>\n",
       "    </tr>\n",
       "  </tbody>\n",
       "</table>\n",
       "</div>"
      ],
      "text/plain": [
       "   car_years_old  car_engine_capacity  car_fuel_flow      car_price  \\\n",
       "0              9                  453             26  130866.666667   \n",
       "1              7                  308             30  132000.000000   \n",
       "2             14                  202             10   14428.571429   \n",
       "3              4                  170              9   38250.000000   \n",
       "4             17                  488             10   28705.882353   \n",
       "\n",
       "   car_new_ft  \n",
       "0       11778  \n",
       "1        9240  \n",
       "2        2020  \n",
       "3        1530  \n",
       "4        4880  "
      ]
     },
     "execution_count": 48,
     "metadata": {},
     "output_type": "execute_result"
    }
   ],
   "source": [
    "data_new = data.loc[data['car_price'] < 1000000]\n",
    "data_new.head()"
   ]
  },
  {
   "cell_type": "code",
   "execution_count": 49,
   "metadata": {},
   "outputs": [
    {
     "data": {
      "text/plain": [
       "<matplotlib.collections.PathCollection at 0x1554bdbfdd8>"
      ]
     },
     "execution_count": 49,
     "metadata": {},
     "output_type": "execute_result"
    },
    {
     "data": {
      "image/png": "[encoded data removed]",
      "text/plain": [
       "<Figure size 432x288 with 1 Axes>"
      ]
     },
     "metadata": {},
     "output_type": "display_data"
    }
   ],
   "source": [
    "# посмотрим на графике зависимость Стоимости от Возраста\n",
    "x = data_new['car_years_old']\n",
    "y = data_new['car_price']\n",
    "\n",
    "plt.xlabel('Возраст')\n",
    "plt.ylabel('Стоимость')\n",
    "plt.title('Точечный график зависимости двух выборок Стоимость и Возраст')\n",
    "plt.grid(True)\n",
    "plt.scatter(x, y, marker='.')"
   ]
  },
  {
   "cell_type": "code",
   "execution_count": 51,
   "metadata": {},
   "outputs": [
    {
     "data": {
      "text/plain": [
       "<matplotlib.collections.PathCollection at 0x1554be961d0>"
      ]
     },
     "execution_count": 51,
     "metadata": {},
     "output_type": "execute_result"
    },
    {
     "data": {
      "image/png": "[encoded data removed]",
      "text/plain": [
       "<Figure size 432x288 with 1 Axes>"
      ]
     },
     "metadata": {},
     "output_type": "display_data"
    }
   ],
   "source": [
    "# посмотрим на графике зависимость Стоимости от Объема двигателя\n",
    "x = data_new['car_engine_capacity']\n",
    "y = data_new['car_price']\n",
    "\n",
    "plt.xlabel('Объем двигателя')\n",
    "plt.ylabel('Стоимость')\n",
    "plt.title('Точечный график зависимости двух выборок Стоимость и Возраст')\n",
    "plt.grid(True)\n",
    "plt.scatter(x, y, marker='.')"
   ]
  },
  {
   "cell_type": "code",
   "execution_count": 52,
   "metadata": {},
   "outputs": [
    {
     "data": {
      "text/plain": [
       "<matplotlib.collections.PathCollection at 0x1554bef4c18>"
      ]
     },
     "execution_count": 52,
     "metadata": {},
     "output_type": "execute_result"
    },
    {
     "data": {
      "image/png": "[encoded data removed]",
      "text/plain": [
       "<Figure size 432x288 with 1 Axes>"
      ]
     },
     "metadata": {},
     "output_type": "display_data"
    }
   ],
   "source": [
    "# посмотрим на графике зависимость Стоимости от Расхода топлива\n",
    "x = data_new['car_fuel_flow']\n",
    "y = data_new['car_price']\n",
    "\n",
    "plt.xlabel('Объем двигателя')\n",
    "plt.ylabel('Стоимость')\n",
    "plt.title('Точечный график зависимости двух выборок Стоимость и Возраст')\n",
    "plt.grid(True)\n",
    "plt.scatter(x, y, marker='.')"
   ]
  },
  {
   "cell_type": "markdown",
   "metadata": {},
   "source": [
    "Графики зависимостей обхема двигателя и расход топлива очень похожи, можно объеденить их в одну фичу."
   ]
  },
  {
   "cell_type": "code",
   "execution_count": 56,
   "metadata": {},
   "outputs": [
    {
     "name": "stderr",
     "output_type": "stream",
     "text": [
      "C:\\Anaconda3\\lib\\site-packages\\ipykernel_launcher.py:1: SettingWithCopyWarning: \n",
      "A value is trying to be set on a copy of a slice from a DataFrame.\n",
      "Try using .loc[row_indexer,col_indexer] = value instead\n",
      "\n",
      "See the caveats in the documentation: http://pandas.pydata.org/pandas-docs/stable/indexing.html#indexing-view-versus-copy\n",
      "  \"\"\"Entry point for launching an IPython kernel.\n"
     ]
    }
   ],
   "source": [
    "data_new['car_new_ft'] = data_new['car_engine_capacity'] * data_new['car_fuel_flow']"
   ]
  },
  {
   "cell_type": "code",
   "execution_count": 55,
   "metadata": {},
   "outputs": [
    {
     "name": "stdout",
     "output_type": "stream",
     "text": [
      "Weights: [16.75948646]\n",
      "Bias: 7380.540661519757\n",
      "Error: 72524.44605008948\n"
     ]
    }
   ],
   "source": [
    "X = data_new[['car_new_ft']]\n",
    "y = data_new['car_price']\n",
    "reg = LinearRegression().fit(X, y)\n",
    "print('Weights: {}'.format(reg.coef_))\n",
    "print('Bias: {}'.format(reg.intercept_))\n",
    "\n",
    "pred_values = reg.predict(data_new[['car_new_ft']])\n",
    "print('Error: {}'.format(mean_absolute_error(pred_values, y)))"
   ]
  },
  {
   "cell_type": "markdown",
   "metadata": {},
   "source": [
    "Всё равно какая-то огромное значение ошибки. Нужно проверить данные влтияние возраста слишко высоко."
   ]
  },
  {
   "cell_type": "code",
   "execution_count": 128,
   "metadata": {},
   "outputs": [
    {
     "data": {
      "text/html": [
       "<div>\n",
       "<style scoped>\n",
       "    .dataframe tbody tr th:only-of-type {\n",
       "        vertical-align: middle;\n",
       "    }\n",
       "\n",
       "    .dataframe tbody tr th {\n",
       "        vertical-align: top;\n",
       "    }\n",
       "\n",
       "    .dataframe thead th {\n",
       "        text-align: right;\n",
       "    }\n",
       "</style>\n",
       "<table border=\"1\" class=\"dataframe\">\n",
       "  <thead>\n",
       "    <tr style=\"text-align: right;\">\n",
       "      <th></th>\n",
       "      <th>car_years_old</th>\n",
       "      <th>car_engine_capacity</th>\n",
       "      <th>car_fuel_flow</th>\n",
       "      <th>new_car_price</th>\n",
       "      <th>car_new_ft</th>\n",
       "    </tr>\n",
       "  </thead>\n",
       "  <tbody>\n",
       "    <tr>\n",
       "      <th>0</th>\n",
       "      <td>9</td>\n",
       "      <td>453</td>\n",
       "      <td>26</td>\n",
       "      <td>2120040.0</td>\n",
       "      <td>11778</td>\n",
       "    </tr>\n",
       "    <tr>\n",
       "      <th>1</th>\n",
       "      <td>7</td>\n",
       "      <td>308</td>\n",
       "      <td>30</td>\n",
       "      <td>1293600.0</td>\n",
       "      <td>9240</td>\n",
       "    </tr>\n",
       "    <tr>\n",
       "      <th>2</th>\n",
       "      <td>14</td>\n",
       "      <td>202</td>\n",
       "      <td>10</td>\n",
       "      <td>565600.0</td>\n",
       "      <td>2020</td>\n",
       "    </tr>\n",
       "    <tr>\n",
       "      <th>3</th>\n",
       "      <td>4</td>\n",
       "      <td>170</td>\n",
       "      <td>9</td>\n",
       "      <td>122400.0</td>\n",
       "      <td>1530</td>\n",
       "    </tr>\n",
       "    <tr>\n",
       "      <th>4</th>\n",
       "      <td>17</td>\n",
       "      <td>488</td>\n",
       "      <td>10</td>\n",
       "      <td>1659200.0</td>\n",
       "      <td>4880</td>\n",
       "    </tr>\n",
       "  </tbody>\n",
       "</table>\n",
       "</div>"
      ],
      "text/plain": [
       "   car_years_old  car_engine_capacity  car_fuel_flow  new_car_price  \\\n",
       "0              9                  453             26      2120040.0   \n",
       "1              7                  308             30      1293600.0   \n",
       "2             14                  202             10       565600.0   \n",
       "3              4                  170              9       122400.0   \n",
       "4             17                  488             10      1659200.0   \n",
       "\n",
       "   car_new_ft  \n",
       "0       11778  \n",
       "1        9240  \n",
       "2        2020  \n",
       "3        1530  \n",
       "4        4880  "
      ]
     },
     "execution_count": 128,
     "metadata": {},
     "output_type": "execute_result"
    }
   ],
   "source": [
    "# перерасчитаем цену\n",
    "new_car_price = ((car_engine_capacity * car_fuel_flow) * (car_years_old*0.2)) * 100\n",
    "\n",
    "new_data = pd.DataFrame({'car_years_old': car_years_old, 'car_engine_capacity': car_engine_capacity, \n",
    "                     'car_fuel_flow': car_fuel_flow, 'new_car_price': new_car_price})\n",
    "new_data['car_new_ft'] = new_data['car_engine_capacity'] * new_data['car_fuel_flow']\n",
    "new_data.head(5)"
   ]
  },
  {
   "cell_type": "code",
   "execution_count": 129,
   "metadata": {},
   "outputs": [
    {
     "name": "stdout",
     "output_type": "stream",
     "text": [
      "Weights: [186.51961959]\n",
      "Bias: 84606.92987405614\n",
      "Error: 537658.412205109\n"
     ]
    }
   ],
   "source": [
    "X = new_data[['car_new_ft']]\n",
    "y = new_data['new_car_price']\n",
    "reg = LinearRegression().fit(X, y)\n",
    "print('Weights: {}'.format(reg.coef_))\n",
    "print('Bias: {}'.format(reg.intercept_))\n",
    "\n",
    "pred_values = reg.predict(new_data[['car_new_ft']])\n",
    "print('Error: {}'.format(mean_absolute_error(pred_values, y)))"
   ]
  },
  {
   "cell_type": "code",
   "execution_count": 130,
   "metadata": {},
   "outputs": [
    {
     "data": {
      "text/plain": [
       "0   -161395.009444\n",
       "1   -514448.214916\n",
       "2    104223.438547\n",
       "3   -247581.947852\n",
       "4    664377.326511\n",
       "Name: new_car_price, dtype: float64"
      ]
     },
     "execution_count": 130,
     "metadata": {},
     "output_type": "execute_result"
    }
   ],
   "source": [
    "res = y - pred_values\n",
    "res.head()"
   ]
  },
  {
   "cell_type": "markdown",
   "metadata": {},
   "source": [
    "Что не получается снизить влияние возраста авто на его стоимость... Возможно потому что не линейния зависимость в формуле."
   ]
  }
 ],
 "metadata": {
  "kernelspec": {
   "display_name": "Python 3",
   "language": "python",
   "name": "python3"
  },
  "language_info": {
   "codemirror_mode": {
    "name": "ipython",
    "version": 3
   },
   "file_extension": ".py",
   "mimetype": "text/x-python",
   "name": "python",
   "nbconvert_exporter": "python",
   "pygments_lexer": "ipython3",
   "version": "3.6.5"
  }
 },
 "nbformat": 4,
 "nbformat_minor": 2
}
