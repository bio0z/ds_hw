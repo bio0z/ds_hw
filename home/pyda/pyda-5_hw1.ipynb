{
 "cells": [
  {
   "cell_type": "markdown",
   "metadata": {},
   "source": [
    "**Задание 1**\n",
    "Даны 2 строки long_phrase и short_phrase. Напишите код, который проверяет действительно ли длинная фраза long_phrase длиннее короткой short_phrase. И выводит True или False в зависимости от результата сравнения.\n",
    "\n",
    "long_phrase = 'Насколько проще было бы писать программы, если бы не заказчики’\n",
    "short_phrase = ‘640Кб должно хватить для любых задач. Билл Гейтс (по легенде)’"
   ]
  },
  {
   "cell_type": "code",
   "execution_count": 1,
   "metadata": {},
   "outputs": [
    {
     "data": {
      "text/plain": [
       "True"
      ]
     },
     "execution_count": 1,
     "metadata": {},
     "output_type": "execute_result"
    }
   ],
   "source": [
    "long_phrase = 'Насколько проще было бы писать программы, если бы не заказчики'\n",
    "short_phrase = '640Кб должно хватить для любых задач. Билл Гейтс (по легенде)'\n",
    "\n",
    "len(long_phrase) > len(short_phrase)"
   ]
  },
  {
   "cell_type": "markdown",
   "metadata": {},
   "source": [
    "**Задание 2**. Дано значение объема файла в байтах. Напишите перевод этого значения в мегабайты в формате:\n",
    "‘Объем файла равен 213.68Mb’"
   ]
  },
  {
   "cell_type": "code",
   "execution_count": 2,
   "metadata": {},
   "outputs": [
    {
     "name": "stdout",
     "output_type": "stream",
     "text": [
      "Объем файла равен  213.68 Mb\n"
     ]
    }
   ],
   "source": [
    "size_file_bite = 224059719.68\n",
    "size_file_mb = ( size_file_bite / 1024 )/ 1024\n",
    "print('Объем файла равен ', size_file_mb, 'Mb')\n"
   ]
  },
  {
   "cell_type": "markdown",
   "metadata": {},
   "source": [
    "**Задание 3**. Разработать приложение для определения знака зодиака по дате рождения.\n",
    "Пример:\n",
    "\n",
    "Введите месяц: март\n",
    "Введите число: 6\n",
    "\n",
    "Вывод:\n",
    "Рыбы"
   ]
  },
  {
   "cell_type": "code",
   "execution_count": 1,
   "metadata": {},
   "outputs": [
    {
     "name": "stdout",
     "output_type": "stream",
     "text": [
      "месяц 1\n",
      "число 1\n",
      "Вывод:  Козерог\n"
     ]
    }
   ],
   "source": [
    "try:\n",
    "    month = int(input('месяц '))      \n",
    "    day = int(input('число '))\n",
    "\n",
    "    if ((month == 1 and 31>=day>19) or (month == 2 and day<19)):\n",
    "        result = 'Водолей'\n",
    "    elif ((month == 2 and 28>=day>18) or (month == 3 and day<21)):\n",
    "        result == 'Рыбы'\n",
    "    elif ((month == 3 and 31>=day>20) or (month == 4 and day<20)):\n",
    "        result = 'Овен' \n",
    "    elif ((month == 4 and 30>=day>19) or (month == 5 and day<21)):\n",
    "        result = 'Телец'\n",
    "    elif ((month == 5 and 31>=day>20) or (month == 6 and day<21)):\n",
    "        result = 'Близнецы'\n",
    "    elif ((month == 6 and 30>=day>20) or (month == 7 and day<23)):\n",
    "        result = 'Рак'\n",
    "    elif ((month == 7 and 31>=day>22) or (month == 8 and day<23)):\n",
    "        result == 'Лев'\n",
    "    elif ((month == 8 and 31>=day>22) or (month == 9 and day<23)):\n",
    "        result == 'Дева'\n",
    "    elif ((month == 9 and 30>=day>22) or (month ==10 and day<23)):\n",
    "        result = 'Весы'\n",
    "    elif ((month == 10 and 31>=day>22) or (month == 11 and day<22)):\n",
    "        result = 'Скорпион'\n",
    "    elif ((month == 11 and 30>=day>21) or (month == 12 and day<22)):\n",
    "        result = 'Стрелец'\n",
    "    elif ((month == 12 and 31>=day>21) or (month == 1 and day<20)):\n",
    "        result = 'Козерог'\n",
    "    else:\n",
    "        result = 'Некорректные введенные данные'\n",
    "\n",
    "    print('Вывод: ',result)\n",
    "    \n",
    "except ValueError:\n",
    "        print('Вводите число')\n"
   ]
  },
  {
   "cell_type": "markdown",
   "metadata": {},
   "source": [
    "**Задание 4**. Нужно разработать приложение для финансового планирования.\n",
    "Приложение учитывает сколько уходит на ипотеку, “на жизнь” и сколько нужно отложить на пенсию.\n",
    "Пользователь вводит заработанную плату в месяц.\n",
    "Сколько процентов от зп уходит на ипотеку.\n",
    "Сколько процентов от зп уходит “на жизнь”.\n",
    "Сколько раз приходит премия в год.\n",
    "Остальная часть заработанной платы откладывается на пенсию.\n",
    "Также пользователю приходит премия в размере зарплаты, от которой половина уходит на отпуск, а вторая половина откладывается.\n",
    "Программа должна учитывать сколько премий было в год.\n",
    "Нужно вывести сколько денег тратит пользователь на ипотеку и сколько он накопит за год.\n",
    "Пример:\n",
    "\n",
    "Введите заработанную плату в месяц: 100000\n",
    "Введите сколько процентов уходит на ипотеку: 30\n",
    "Введите сколько процентов уходит на жизнь: 50\n",
    "Введите количество премий за год: 2\n",
    "\n",
    "Вывод:\n",
    "На ипотеку было потрачено: 360000 рублей\n",
    "Было накоплено: 340000 рублей"
   ]
  },
  {
   "cell_type": "code",
   "execution_count": 16,
   "metadata": {},
   "outputs": [
    {
     "name": "stdout",
     "output_type": "stream",
     "text": [
      "Введите заработанную плату в месяц: 500\n",
      "Введите сколько процентов уходит на ипотеку: 23\n",
      "Введите сколько процентов уходит на жизнь:27\n",
      "Введите количество премий за год: 2\n",
      "На ипотеку было потрачено:  1380.0\n",
      "Было накоплено:  3500.0\n"
     ]
    }
   ],
   "source": [
    "try:\n",
    "    month_sallary = int(input('Введите заработанную плату в месяц: '))\n",
    "    month_ipoteka_percent = int(input('Введите сколько процентов уходит на ипотеку: '))\n",
    "    month_life_percent = int(input('Введите сколько процентов уходит на жизнь:'))\n",
    "    year_bonus_count = int(input('Введите количество премий за год: '))\n",
    "    \n",
    "    # считаем в какая сумма на ипотеку и проживание в месяц\n",
    "    moth_life_sum = ( month_sallary / 100 ) * month_life_percent\n",
    "    month_ipoteka_sum = ( month_sallary / 100 ) * month_ipoteka_percent\n",
    "    \n",
    "    # считаем сколько на ипотеку и жильё в год\n",
    "    year_life_sum = moth_life_sum * 12\n",
    "    year_ipoteka_sum = month_ipoteka_sum * 12\n",
    "    \n",
    "    # считаем сколько от премии отложено за год\n",
    "    bonus_saving_year_sum = (month_sallary*year_bonus_count)/2\n",
    "    \n",
    "    # считаем сколько отложено\n",
    "    year_savings = (month_sallary * 12) - (year_life_sum+year_ipoteka_sum) + bonus_saving_year_sum\n",
    "\n",
    "    print('На ипотеку было потрачено: ',year_ipoteka_sum)\n",
    "    print('Было накоплено(на пенсию): ',year_savings)\n",
    "    \n",
    "except ValueError:\n",
    "        print('Вводите число')"
   ]
  },
  {
   "cell_type": "code",
   "execution_count": null,
   "metadata": {},
   "outputs": [],
   "source": []
  }
 ],
 "metadata": {
  "kernelspec": {
   "display_name": "Python 3",
   "language": "python",
   "name": "python3"
  },
  "language_info": {
   "codemirror_mode": {
    "name": "ipython",
    "version": 3
   },
   "file_extension": ".py",
   "mimetype": "text/x-python",
   "name": "python",
   "nbconvert_exporter": "python",
   "pygments_lexer": "ipython3",
   "version": "3.6.5"
  }
 },
 "nbformat": 4,
 "nbformat_minor": 2
}
