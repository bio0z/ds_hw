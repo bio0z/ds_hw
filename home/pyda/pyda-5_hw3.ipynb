{
 "cells": [
  {
   "cell_type": "markdown",
   "metadata": {},
   "source": [
    "**Задание 1**\n",
    "\n",
    "Дан список вида:\n",
    "\n",
    "data = [\n",
    "\n",
    "[13, 25, 23, 34],\n",
    "\n",
    "[45, 32, 44, 47],\n",
    "\n",
    "[12, 33, 23, 95],\n",
    "\n",
    "[13, 53, 34, 35],\n",
    "\n",
    "]\n",
    "\n",
    "\n",
    "Напишите функцию, которая возвращает сумму элементов на диагонали. Т. е. 13+32+23+35."
   ]
  },
  {
   "cell_type": "code",
   "execution_count": 49,
   "metadata": {},
   "outputs": [
    {
     "data": {
      "text/plain": [
       "103"
      ]
     },
     "execution_count": 49,
     "metadata": {},
     "output_type": "execute_result"
    }
   ],
   "source": [
    "data = [\n",
    "    [13, 25, 23, 34],\n",
    "    [45, 32, 44, 47],\n",
    "    [12, 33, 23, 95],\n",
    "    [13, 53, 34, 35],\n",
    "]\n",
    "\n",
    "def diagonal_multi(x):\n",
    "    i = len(x)\n",
    "    j = 0\n",
    "    result = 0\n",
    "    while j <= i-1:\n",
    "        result = result + x[j][j]\n",
    "        j = j + 1\n",
    "    return result\n",
    "\n",
    "diagonal_multi(data)"
   ]
  },
  {
   "cell_type": "markdown",
   "metadata": {},
   "source": [
    "**Задание 2**\n",
    "\n",
    "Дан список чисел, часть из которых имеют строковый тип или содержат буквы. Напишите функцию, которая возвращает сумму квадратов элементов, которые могут быть числами.\n",
    "\n",
    "data = [1, ‘5’, ‘abc’, 20, ‘2’]"
   ]
  },
  {
   "cell_type": "code",
   "execution_count": 54,
   "metadata": {},
   "outputs": [
    {
     "data": {
      "text/plain": [
       "401"
      ]
     },
     "execution_count": 54,
     "metadata": {},
     "output_type": "execute_result"
    }
   ],
   "source": [
    "data = [1, '5', 'abc', 20, '2']\n",
    "\n",
    "def squad(x):\n",
    "    result = 0\n",
    "    for num in data:\n",
    "        if isinstance(num,int):\n",
    "            result = result + num*num\n",
    "    return result\n",
    "\n",
    "squad(data)"
   ]
  },
  {
   "cell_type": "markdown",
   "metadata": {},
   "source": [
    "**Задание 3**\n",
    "\n",
    "Напишите функцию, возвращающую сумму первых n чисел Фибоначчи"
   ]
  },
  {
   "cell_type": "code",
   "execution_count": 56,
   "metadata": {},
   "outputs": [
    {
     "data": {
      "text/plain": [
       "1596"
      ]
     },
     "execution_count": 56,
     "metadata": {},
     "output_type": "execute_result"
    }
   ],
   "source": [
    "def fibonachi(x):\n",
    "    fiba = [1,1]\n",
    "    num = 1\n",
    "    fiba_sum = 2\n",
    "    i = 1\n",
    "    while i <= x-2:\n",
    "        next_num = fiba[i] + fiba[i-1]\n",
    "        fiba.append(next_num)\n",
    "        fiba_sum = fiba_sum + fiba[i+1]\n",
    "        i = i + 1\n",
    "    return fiba_sum\n",
    "\n",
    "fibonachi(15)\n",
    "        \n",
    "    "
   ]
  },
  {
   "cell_type": "markdown",
   "metadata": {},
   "source": [
    "**Задание 4**\n",
    "\n",
    "Дан набор данных об обучении студентов на курсе программирования, который содержит: \n",
    "\n",
    "1) имя\n",
    "\n",
    "2) фамилию\n",
    "\n",
    "3) пол\n",
    "\n",
    "4) наличие у студента опыта в программировании\n",
    "\n",
    "5) набор оценок за домашние работы\n",
    "\n",
    "6) оценку за итоговую работу.\n",
    "\n",
    "\n",
    "Напишите программу, которая будет принимать команду от пользователя и возвращать соотвествующий результат. Список команд:\n",
    "\n",
    "1 - вывести на экран среднюю оценку за все ДЗ по группе и вывести на экран среднюю оценку за экзамен по группе;\n",
    "\n",
    "2 - вывести среднюю оценку за ДЗ и за экзамен по группе в разрезе пола студентов \n",
    "\n",
    "3 - вывести среднюю оценку за ДЗ и за экзамен в разрезе наличия опыта в программировании у студентов.\n",
    "\n",
    "\n",
    "\n",
    "Прогрмма должна быть полностью декомпозирована на функции (кроме объявления функций и вызова итоговой функции в реализации ничего быть не должно).\n",
    "\n",
    "\n",
    "students_list = [\n",
    "{‘name’: ‘Василий’, ‘surname’: ‘Теркин’, ‘sex’: ‘м’, ‘program_exp’: True, ‘grade’: [8, 8, 9, 10, 9], ‘exam’: 9},\n",
    "{‘name’: ‘Мария’, ‘surname’: ‘Павлова’, ‘sex’: ‘ж’, ‘program_exp’: True, ‘grade’: [7, 8, 9, 7, 9], ‘exam’: 8},\n",
    "{‘name’: ‘Ирина’, ‘surname’: ‘Андреева’, ‘sex’: ‘ж’, ‘program_exp’: True, ‘grade’: [10, 9, 8, 10, 10], ‘exam’: 10},\n",
    "{‘name’: ‘Татьяна’, ‘surname’: ‘Сидорова’, ‘sex’: ‘ж’, ‘program_exp’: True, ‘grade’: [7, 8, 8, 9, 8], ‘exam’: 8},\n",
    "{‘name’: ‘Иван’, ‘surname’: ‘Васильев’, ‘sex’: ‘ж’, ‘program_exp’: True, ‘grade’: [9, 8, 9, 6, 9], ‘exam’: 10},\n",
    "{‘name’: ‘Роман’, ‘surname’: ‘Золотарев’, ‘sex’: ‘ж’, ‘program_exp’: False, ‘grade’: [8, 9, 9, 6, 9], ‘exam’: 10}\n",
    "]"
   ]
  },
  {
   "cell_type": "code",
   "execution_count": 70,
   "metadata": {},
   "outputs": [
    {
     "name": "stdout",
     "output_type": "stream",
     "text": [
      "Введите команду от 1 до 3 3\n"
     ]
    },
    {
     "data": {
      "text/plain": [
       "'Средняя оценка за ДЗ и эказмен по навыкам программирования ((8.2, 12.0), (8.2, 20.0))'"
      ]
     },
     "execution_count": 70,
     "metadata": {},
     "output_type": "execute_result"
    }
   ],
   "source": [
    "students_list = [ \n",
    "    {'name': 'Василий', 'surname': 'Теркин', 'sex': 'м', 'program_exp': True, 'grade': [8, 8, 9, 10, 9], 'exam': 9}, \n",
    "    {'name': 'Мария', 'surname': 'Павлова', 'sex': 'ж', 'program_exp': True, 'grade': [7, 8, 9, 7, 9], 'exam': 8}, \n",
    "    {'name': 'Ирина', 'surname': 'Андреева', 'sex': 'ж', 'program_exp': True, 'grade': [10, 9, 8, 10, 10], 'exam': 10}, \n",
    "    {'name': 'Татьяна', 'surname': 'Сидорова', 'sex': 'ж', 'program_exp': True, 'grade': [7, 8, 8, 9, 8], 'exam': 8}, \n",
    "    {'name': 'Иван', 'surname': 'Васильев', 'sex': 'ж', 'program_exp': True, 'grade': [9, 8, 9, 6, 9], 'exam': 10}, \n",
    "    {'name': 'Роман', 'surname': 'Золотарев', 'sex': 'ж', 'program_exp': False, 'grade': [8, 9, 9, 6, 9], 'exam': 10} \n",
    "]\n",
    "\n",
    "def exec_func(func_num):\n",
    "    # функция 1  вывести на экран среднюю оценку за все ДЗ и экзамен по группе;\n",
    "    def func_1(input_list):\n",
    "        for stud in input_list:\n",
    "            grade_avg = sum(stud['grade'])/len(stud['grade'])\n",
    "            exam_avg = stud['exam']\n",
    "            i = 0\n",
    "            exam_sum = 0\n",
    "            while i <= len(input_list):\n",
    "                exam_sum = exam_sum + stud['exam']\n",
    "                i = i + 1\n",
    "            exam_avg = round(exam_sum/len(input_list),1)\n",
    "        return grade_avg, exam_avg\n",
    "    #\n",
    "    def func_2(input_list):\n",
    "        def func_gender_filter(source_list,param):\n",
    "            result = [man_row for man_row in source_list if man_row['sex'] == param]\n",
    "            return result\n",
    "        male_students = func_gender_filter(input_list,'ж')\n",
    "        famale_students = func_gender_filter(input_list,'м')\n",
    "\n",
    "        return func_1(male_students), func_1(famale_students)\n",
    "    #\n",
    "    def func_3(source_list):\n",
    "        result_dev = [man_row for man_row in source_list if man_row['program_exp']]\n",
    "        result_no_dev = [man_row for man_row in students_list if not man_row['program_exp']]\n",
    "\n",
    "        return func_1(result_dev), func_1(result_no_dev)\n",
    "    # \n",
    "    def exec_(func_num,input_list):\n",
    "        func_num = input('Введите команду от 1 до 3 ')\n",
    "        if int(func_num) == 1:\n",
    "            return f'Средняя оценка за ДЗ и экзамен {func_1(input_list)}'\n",
    "        elif int(func_num) == 2:\n",
    "            return f'Средняя оценка за ДЗ и эказмен по половой принадлежности {func_2(input_list)}'\n",
    "        elif int(func_num) == 3:\n",
    "            return f'Средняя оценка за ДЗ и эказмен по навыкам программирования {func_3(input_list)}'\n",
    "        else:\n",
    "            return 'Не правильная команда'\n",
    "            \n",
    "    return exec_(func_num,students_list)\n",
    "\n",
    "exec_func(3)\n"
   ]
  }
 ],
 "metadata": {
  "kernelspec": {
   "display_name": "Python 3",
   "language": "python",
   "name": "python3"
  },
  "language_info": {
   "codemirror_mode": {
    "name": "ipython",
    "version": 3
   },
   "file_extension": ".py",
   "mimetype": "text/x-python",
   "name": "python",
   "nbconvert_exporter": "python",
   "pygments_lexer": "ipython3",
   "version": "3.6.5"
  }
 },
 "nbformat": 4,
 "nbformat_minor": 2
}
