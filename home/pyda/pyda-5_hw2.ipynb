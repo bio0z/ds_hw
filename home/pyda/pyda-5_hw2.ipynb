{
 "cells": [
  {
   "cell_type": "markdown",
   "metadata": {},
   "source": [
    "**Задание 1**\n",
    "Дан список с визитами по городам и странам. Напишите код, который возвращает отфильтрованный список geo_logs, содержащий только визиты из России. Считайте, что список geo_logs легко помещается в оперативной памяти.\n",
    "\n",
    "geo_logs = [\n",
    "{‘visit1’: [‘Москва’, ‘Россия’]},\n",
    "{‘visit2’: [‘Дели’, ‘Индия’]},\n",
    "{‘visit3’: [‘Владимир’, ‘Россия’]},\n",
    "{‘visit4’: [‘Лиссабон’, ‘Португалия’]},\n",
    "{‘visit5’: [‘Париж’, ‘Франция’]},\n",
    "{‘visit6’: [‘Лиссабон’, ‘Португалия’]},\n",
    "{‘visit7’: [‘Тула’, ‘Россия’]},\n",
    "{‘visit8’: [‘Тула’, ‘Россия’]},\n",
    "{‘visit9’: [‘Курск’, ‘Россия’]},\n",
    "{‘visit10’: [‘Архангельск’, ‘Россия’]},\n",
    "]"
   ]
  },
  {
   "cell_type": "code",
   "execution_count": 7,
   "metadata": {},
   "outputs": [
    {
     "name": "stdout",
     "output_type": "stream",
     "text": [
      "[{'visit1': ['Москва', 'Россия']}, {'visit3': ['Владимир', 'Россия']}, {'visit7': ['Тула', 'Россия']}, {'visit8': ['Тула', 'Россия']}, {'visit9': ['Курск', 'Россия']}, {'visit10': ['Архангельск', 'Россия']}]\n"
     ]
    }
   ],
   "source": [
    "geo_logs = [\n",
    "    {'visit1': ['Москва', 'Россия']},\n",
    "    {'visit2': ['Дели', 'Индия']},\n",
    "    {'visit3': ['Владимир', 'Россия']},\n",
    "    {'visit4': ['Лиссабон', 'Португалия']},\n",
    "    {'visit5': ['Париж', 'Франция']},\n",
    "    {'visit6': ['Лиссабон', 'Португалия']},\n",
    "    {'visit7': ['Тула', 'Россия']},\n",
    "    {'visit8': ['Тула', 'Россия']},\n",
    "    {'visit9': ['Курск', 'Россия']},\n",
    "    {'visit10': ['Архангельск', 'Россия']},\n",
    "]\n",
    "# не самое красивое решение, но работает\n",
    "new_geo_logs = []\n",
    "for geo_log_rus in geo_logs:\n",
    "    for value in geo_log_rus.values():\n",
    "        if value[1] == 'Россия':\n",
    "            new_geo_logs.append(geo_log_rus)            \n",
    "print(new_geo_logs)\n",
    "\n",
    "# если нужно в той же переменной вывести, то можно приравнять\n",
    "geo_logs = new_geo_logs\n",
    "\n",
    "print(geo_logs)"
   ]
  },
  {
   "cell_type": "markdown",
   "metadata": {},
   "source": [
    "**Задание 2**\n",
    "\n",
    "Выведите на экран все уникальные гео-ID из значений словаря ids. Т. е. список вида [213, 15, 54, 119, 98, 35]\n",
    "ids = {‘user1’: [213, 213, 213, 15, 213], ‘user2’: [54, 54, 119, 119, 119], ‘user3’: [213, 98, 98, 35]}"
   ]
  },
  {
   "cell_type": "code",
   "execution_count": 14,
   "metadata": {},
   "outputs": [
    {
     "name": "stdout",
     "output_type": "stream",
     "text": [
      "[98, 35, 213, 54, 119, 15]\n"
     ]
    }
   ],
   "source": [
    "ids = {'user1': [213, 213, 213, 15, 213], 'user2': [54, 54, 119, 119, 119], 'user3': [213, 98, 98, 35]}\n",
    "new_user_list = []\n",
    "for user_list in ids.values():\n",
    "    user_list_tuple = set(user_list)\n",
    "    new_user_list =  set(new_user_list) | user_list_tuple\n",
    "    \n",
    "#new_user_list = tuple(new_user_list)\n",
    "print(list(new_user_list))"
   ]
  },
  {
   "cell_type": "markdown",
   "metadata": {},
   "source": [
    "**Задание 3**\n",
    "\n",
    "Список поисковых запросов. Получить распределение количества слов в них. Т. е. поисковых запросов из одного слова 5%, из двух - 7%, из трех - 3% итд.\n",
    "queries = [\n",
    "‘смотреть сериалы онлайн’,\n",
    "‘новости спорта’,\n",
    "‘афиша кино’,\n",
    "‘курс доллара’,\n",
    "‘сериалы этим летом’,\n",
    "‘курс по питону’,\n",
    "‘сериалы про спорт’,\n",
    "]"
   ]
  },
  {
   "cell_type": "code",
   "execution_count": 41,
   "metadata": {},
   "outputs": [
    {
     "name": "stdout",
     "output_type": "stream",
     "text": [
      "Поисковых запросов из  3  слов  57  %\n",
      "Поисковых запросов из  2  слов  43  %\n"
     ]
    }
   ],
   "source": [
    "queries = [\n",
    "    'смотреть сериалы онлайн', \n",
    "    'новости спорта', \n",
    "    'афиша кино', \n",
    "    'курс доллара', \n",
    "    'сериалы этим летом', \n",
    "    'курс по питону', \n",
    "    'сериалы про спорт', \n",
    "]\n",
    "count_queries = len(queries)\n",
    "counts = []\n",
    "for w in queries:\n",
    "    words = w.split(' ')\n",
    "    query_words_count = len(words)\n",
    "    counts.append(len(words))\n",
    "    \n",
    "count_unique_queries = len(list(set(counts)))\n",
    "\n",
    "i = 0\n",
    "j = 0\n",
    "set_queries = counts\n",
    "while i <= (int(count_unique_queries)-1):\n",
    "    result = set_queries.count(set_queries[i])\n",
    "    print('Поисковых запросов из ' , set_queries[i] , ' слов ' , round((result / count_queries)*100) , ' %')\n",
    "    i = i+1"
   ]
  },
  {
   "cell_type": "markdown",
   "metadata": {},
   "source": [
    "**Задание 4**\n",
    "\n",
    "Дана статистика рекламных каналов по объемам продаж. Напишите скрипт, который возвращает название канала с максимальным объемом.\n",
    "Т. е. в данном примере скрипт должен возвращать ‘yandex’.\n",
    "stats = {‘facebook’: 55, ‘yandex’: 120, ‘vk’: 115, ‘google’: 99, ‘email’: 42, ‘ok’: 98}"
   ]
  },
  {
   "cell_type": "code",
   "execution_count": 52,
   "metadata": {},
   "outputs": [
    {
     "name": "stdout",
     "output_type": "stream",
     "text": [
      "yandex\n"
     ]
    }
   ],
   "source": [
    "stats = {'facebook': 55, 'yandex': 120, 'vk': 115, 'google': 99, 'email': 42, 'ok': 98}\n",
    "max_value = 0\n",
    "max_key = ''\n",
    "for key, value in stats.items():\n",
    "    if max_value < value:\n",
    "        max_value = value\n",
    "        max_key = key\n",
    "print(max_key)"
   ]
  },
  {
   "cell_type": "markdown",
   "metadata": {},
   "source": [
    "**Задание 5**\n",
    "\n",
    "Дан поток логов по количеству просмотренных страниц для каждого пользователя. Список отсортирован по ID пользователя. Вам необходимо написать алгоритм, который считает среднее значение просмотров на пользователя. Т. е. надо посчитать отношение суммы всех просмотров к количеству уникальных пользователей. Учтите, что весь список stream не помещается в оперативную память, т. е. его нужно обрабатывать поэлементно в цикле.\n",
    "stream = [\n",
    "‘2018-01-01,user1,3’,\n",
    "‘2018-01-07,user1,4’,\n",
    "‘2018-03-29,user1,1’,\n",
    "‘2018-04-04,user1,13’,\n",
    "‘2018-01-05,user2,7’,\n",
    "‘2018-06-14,user3,4’,\n",
    "‘2018-07-02,user3,10’,\n",
    "‘2018-03-21,user4,19’,\n",
    "‘2018-03-22,user4,4’,\n",
    "‘2018-04-22,user4,8’,\n",
    "‘2018-05-03,user4,9’,\n",
    "‘2018-05-11,user4,11’,\n",
    "]"
   ]
  },
  {
   "cell_type": "code",
   "execution_count": 56,
   "metadata": {},
   "outputs": [
    {
     "name": "stdout",
     "output_type": "stream",
     "text": [
      "Отношение суммы всех просмотров к количеству уникальных пользователей : 23.25\n",
      "\n",
      "Сумма просмотров по каждому пользователю : {'user1': 21, 'user2': 7, 'user3': 14, 'user4': 51}\n",
      "\n",
      "Коэффициент(отношение) суммы всех просмотров к просмотрам каждого пользователя : {'user1': 12.370000000000001, 'user2': 4.0, 'user3': 12.2, 'user4': 46.14}\n"
     ]
    }
   ],
   "source": [
    "stream = [\n",
    "    '2018-01-01,user1,3',\n",
    "    '2018-01-07,user1,4',\n",
    "    '2018-03-29,user1,1',\n",
    "    '2018-04-04,user1,13',\n",
    "    '2018-01-05,user2,7',\n",
    "    '2018-06-14,user3,4',\n",
    "    '2018-07-02,user3,10',\n",
    "    '2018-03-21,user4,19',\n",
    "    '2018-03-22,user4,4',\n",
    "    '2018-04-22,user4,8',\n",
    "    '2018-05-03,user4,9',\n",
    "    '2018-05-11,user4,11',\n",
    "]\n",
    "watch_sum = 0\n",
    "user_view_sum = {}\n",
    "user_view_sum_con_watch = {}\n",
    "\n",
    "for line in stream:\n",
    "    line_list = line.split(',')\n",
    "    watch_sum = watch_sum + int(line_list[2])\n",
    "    try:\n",
    "        user_view_sum[line_list[1]] += int(line_list[2])\n",
    "        user_view_sum_con_watch[line_list[1]] += round(watch_sum/int(line_list[2]),2)\n",
    "    except KeyError:                              \n",
    "        user_view_sum[line_list[1]] = int(line_list[2])\n",
    "        user_view_sum_con_watch[line_list[1]] = round(watch_sum/int(line_list[2]),2)\n",
    "result = watch_sum/len(user_view_sum)\n",
    "\n",
    "print(f'Отношение суммы всех просмотров к количеству уникальных пользователей : {result}')\n",
    "\n",
    "# дополнительно\n",
    "print(f'')\n",
    "print(f'Сумма просмотров по каждому пользователю : {user_view_sum}')\n",
    "print(f'')\n",
    "print(f'Коэффициент(отношение) суммы всех просмотров к просмотрам каждого пользователя : {user_view_sum_con_watch}')\n"
   ]
  },
  {
   "cell_type": "markdown",
   "metadata": {},
   "source": [
    "**Задание 6**\n",
    "\n",
    "Дана статистика рекламных кампаний по дням. Напишите алгоритм, который по паре дата-кампания ищет значение численного столбца. Т. е. для даты ‘2018-01-01’ и ‘google’ нужно получить число 25. Считайте, что все комбинации дата-кампания уникальны, а список stats легко помещается в оперативной памяти.\n",
    "stats = [\n",
    "[‘2018-01-01’, ‘google’, 25],\n",
    "[‘2018-01-01’, ‘yandex’, 65],\n",
    "[‘2018-01-01’, ‘market’, 89],\n",
    "[‘2018-01-02’, ‘google’, 574],\n",
    "[‘2018-01-02’, ‘yandex’, 249],\n",
    "[‘2018-01-02’, ‘market’, 994],\n",
    "[‘2018-01-03’, ‘google’, 1843],\n",
    "[‘2018-01-03’, ‘yandex’, 1327],\n",
    "[‘2018-01-03’, ‘market’, 1764],\n",
    "]"
   ]
  },
  {
   "cell_type": "code",
   "execution_count": 64,
   "metadata": {},
   "outputs": [
    {
     "name": "stdout",
     "output_type": "stream",
     "text": [
      "дата : 2018-01-01\n",
      "поисковик : yandex\n",
      "65\n"
     ]
    }
   ],
   "source": [
    "stats = [\n",
    "    ['2018-01-01', 'google', 25],\n",
    "    ['2018-01-01', 'yandex', 65],\n",
    "    ['2018-01-01', 'market', 89],\n",
    "    ['2018-01-02', 'google', 574],\n",
    "    ['2018-01-02', 'yandex', 249],\n",
    "    ['2018-01-02', 'market', 994],\n",
    "    ['2018-01-03', 'google', 1843],\n",
    "    ['2018-01-03', 'yandex', 1327],\n",
    "    ['2018-01-03', 'market', 1764],\n",
    "]\n",
    "date = input('дата : ')\n",
    "site = input('поисковик : ')\n",
    "\n",
    "for s_line in stats:\n",
    "    if date == s_line[0] and site == s_line[1]:\n",
    "        print(s_line[2])\n",
    "    "
   ]
  }
 ],
 "metadata": {
  "kernelspec": {
   "display_name": "Python 3",
   "language": "python",
   "name": "python3"
  },
  "language_info": {
   "codemirror_mode": {
    "name": "ipython",
    "version": 3
   },
   "file_extension": ".py",
   "mimetype": "text/x-python",
   "name": "python",
   "nbconvert_exporter": "python",
   "pygments_lexer": "ipython3",
   "version": "3.6.5"
  }
 },
 "nbformat": 4,
 "nbformat_minor": 2
}
